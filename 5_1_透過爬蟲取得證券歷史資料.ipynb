{
 "cells": [
  {
   "cell_type": "markdown",
   "metadata": {},
   "source": [
    "載入必要套件"
   ]
  },
  {
   "cell_type": "code",
   "execution_count": null,
   "metadata": {},
   "outputs": [],
   "source": [
    "!pip install requests\n",
    "!pip install pandas"
   ]
  },
  {
   "cell_type": "code",
   "execution_count": 9,
   "metadata": {},
   "outputs": [],
   "source": [
    "import requests \n",
    "import json\n",
    "import pandas as pd"
   ]
  },
  {
   "cell_type": "markdown",
   "metadata": {},
   "source": [
    "取得證交所股票日成交數據"
   ]
  },
  {
   "cell_type": "code",
   "execution_count": 12,
   "metadata": {},
   "outputs": [
    {
     "data": {
      "text/html": [
       "<div>\n",
       "<style scoped>\n",
       "    .dataframe tbody tr th:only-of-type {\n",
       "        vertical-align: middle;\n",
       "    }\n",
       "\n",
       "    .dataframe tbody tr th {\n",
       "        vertical-align: top;\n",
       "    }\n",
       "\n",
       "    .dataframe thead th {\n",
       "        text-align: right;\n",
       "    }\n",
       "</style>\n",
       "<table border=\"1\" class=\"dataframe\">\n",
       "  <thead>\n",
       "    <tr style=\"text-align: right;\">\n",
       "      <th></th>\n",
       "      <th>日期</th>\n",
       "      <th>成交股數</th>\n",
       "      <th>成交金額</th>\n",
       "      <th>開盤價</th>\n",
       "      <th>最高價</th>\n",
       "      <th>最低價</th>\n",
       "      <th>收盤價</th>\n",
       "      <th>漲跌價差</th>\n",
       "      <th>成交筆數</th>\n",
       "    </tr>\n",
       "  </thead>\n",
       "  <tbody>\n",
       "    <tr>\n",
       "      <th>0</th>\n",
       "      <td>113/06/03</td>\n",
       "      <td>29,629,706</td>\n",
       "      <td>25,053,781,742</td>\n",
       "      <td>839.00</td>\n",
       "      <td>853.00</td>\n",
       "      <td>837.00</td>\n",
       "      <td>846.00</td>\n",
       "      <td>+25.00</td>\n",
       "      <td>40,694</td>\n",
       "    </tr>\n",
       "    <tr>\n",
       "      <th>1</th>\n",
       "      <td>113/06/04</td>\n",
       "      <td>31,031,104</td>\n",
       "      <td>26,107,162,214</td>\n",
       "      <td>844.00</td>\n",
       "      <td>851.00</td>\n",
       "      <td>837.00</td>\n",
       "      <td>839.00</td>\n",
       "      <td>-7.00</td>\n",
       "      <td>52,392</td>\n",
       "    </tr>\n",
       "    <tr>\n",
       "      <th>2</th>\n",
       "      <td>113/06/05</td>\n",
       "      <td>37,531,781</td>\n",
       "      <td>31,774,150,536</td>\n",
       "      <td>841.00</td>\n",
       "      <td>857.00</td>\n",
       "      <td>835.00</td>\n",
       "      <td>854.00</td>\n",
       "      <td>+15.00</td>\n",
       "      <td>41,869</td>\n",
       "    </tr>\n",
       "    <tr>\n",
       "      <th>3</th>\n",
       "      <td>113/06/06</td>\n",
       "      <td>67,300,344</td>\n",
       "      <td>60,138,015,941</td>\n",
       "      <td>893.00</td>\n",
       "      <td>899.00</td>\n",
       "      <td>885.00</td>\n",
       "      <td>894.00</td>\n",
       "      <td>+40.00</td>\n",
       "      <td>112,332</td>\n",
       "    </tr>\n",
       "    <tr>\n",
       "      <th>4</th>\n",
       "      <td>113/06/07</td>\n",
       "      <td>44,489,018</td>\n",
       "      <td>39,240,336,617</td>\n",
       "      <td>885.00</td>\n",
       "      <td>888.00</td>\n",
       "      <td>879.00</td>\n",
       "      <td>879.00</td>\n",
       "      <td>-15.00</td>\n",
       "      <td>85,990</td>\n",
       "    </tr>\n",
       "  </tbody>\n",
       "</table>\n",
       "</div>"
      ],
      "text/plain": [
       "          日期        成交股數            成交金額     開盤價     最高價     最低價     收盤價  \\\n",
       "0  113/06/03  29,629,706  25,053,781,742  839.00  853.00  837.00  846.00   \n",
       "1  113/06/04  31,031,104  26,107,162,214  844.00  851.00  837.00  839.00   \n",
       "2  113/06/05  37,531,781  31,774,150,536  841.00  857.00  835.00  854.00   \n",
       "3  113/06/06  67,300,344  60,138,015,941  893.00  899.00  885.00  894.00   \n",
       "4  113/06/07  44,489,018  39,240,336,617  885.00  888.00  879.00  879.00   \n",
       "\n",
       "     漲跌價差     成交筆數  \n",
       "0  +25.00   40,694  \n",
       "1   -7.00   52,392  \n",
       "2  +15.00   41,869  \n",
       "3  +40.00  112,332  \n",
       "4  -15.00   85,990  "
      ]
     },
     "execution_count": 12,
     "metadata": {},
     "output_type": "execute_result"
    }
   ],
   "source": [
    "url = 'https://www.twse.com.tw/rwd/zh/afterTrading/STOCK_DAY?date=20240612&stockNo=2330&response=json&_=1718166127755'\n",
    "response = requests.get(url)\n",
    "data = json.loads(response.text)\n",
    "df = pd.DataFrame(data['data'],columns=data['fields'])\n",
    "df.head()"
   ]
  }
 ],
 "metadata": {
  "kernelspec": {
   "display_name": "Python 3",
   "language": "python",
   "name": "python3"
  },
  "language_info": {
   "codemirror_mode": {
    "name": "ipython",
    "version": 3
   },
   "file_extension": ".py",
   "mimetype": "text/x-python",
   "name": "python",
   "nbconvert_exporter": "python",
   "pygments_lexer": "ipython3",
   "version": "3.10.4"
  }
 },
 "nbformat": 4,
 "nbformat_minor": 2
}
