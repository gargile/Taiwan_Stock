{
 "cells": [
  {
   "cell_type": "markdown",
   "metadata": {},
   "source": [
    "載入套件"
   ]
  },
  {
   "cell_type": "code",
   "execution_count": null,
   "metadata": {},
   "outputs": [],
   "source": [
    "!pip install yfinance"
   ]
  },
  {
   "cell_type": "code",
   "execution_count": 2,
   "metadata": {},
   "outputs": [],
   "source": [
    "import yfinance as yf"
   ]
  },
  {
   "cell_type": "code",
   "execution_count": 3,
   "metadata": {},
   "outputs": [
    {
     "name": "stderr",
     "output_type": "stream",
     "text": [
      "[*********************100%%**********************]  1 of 1 completed\n"
     ]
    },
    {
     "data": {
      "text/html": [
       "<div>\n",
       "<style scoped>\n",
       "    .dataframe tbody tr th:only-of-type {\n",
       "        vertical-align: middle;\n",
       "    }\n",
       "\n",
       "    .dataframe tbody tr th {\n",
       "        vertical-align: top;\n",
       "    }\n",
       "\n",
       "    .dataframe thead th {\n",
       "        text-align: right;\n",
       "    }\n",
       "</style>\n",
       "<table border=\"1\" class=\"dataframe\">\n",
       "  <thead>\n",
       "    <tr style=\"text-align: right;\">\n",
       "      <th></th>\n",
       "      <th>Open</th>\n",
       "      <th>High</th>\n",
       "      <th>Low</th>\n",
       "      <th>Close</th>\n",
       "      <th>Adj Close</th>\n",
       "      <th>Volume</th>\n",
       "    </tr>\n",
       "    <tr>\n",
       "      <th>Date</th>\n",
       "      <th></th>\n",
       "      <th></th>\n",
       "      <th></th>\n",
       "      <th></th>\n",
       "      <th></th>\n",
       "      <th></th>\n",
       "    </tr>\n",
       "  </thead>\n",
       "  <tbody>\n",
       "    <tr>\n",
       "      <th>2000-01-04</th>\n",
       "      <td>69.649033</td>\n",
       "      <td>69.649033</td>\n",
       "      <td>68.475182</td>\n",
       "      <td>69.649033</td>\n",
       "      <td>34.502377</td>\n",
       "      <td>200662336736</td>\n",
       "    </tr>\n",
       "    <tr>\n",
       "      <th>2000-01-05</th>\n",
       "      <td>69.649033</td>\n",
       "      <td>71.214043</td>\n",
       "      <td>68.866341</td>\n",
       "      <td>71.214043</td>\n",
       "      <td>35.277649</td>\n",
       "      <td>402466805912</td>\n",
       "    </tr>\n",
       "    <tr>\n",
       "      <th>2000-01-06</th>\n",
       "      <td>70.822884</td>\n",
       "      <td>71.214043</td>\n",
       "      <td>69.649033</td>\n",
       "      <td>69.649033</td>\n",
       "      <td>34.502377</td>\n",
       "      <td>197545715802</td>\n",
       "    </tr>\n",
       "    <tr>\n",
       "      <th>2000-01-07</th>\n",
       "      <td>67.301331</td>\n",
       "      <td>68.475182</td>\n",
       "      <td>66.518639</td>\n",
       "      <td>67.692490</td>\n",
       "      <td>33.533165</td>\n",
       "      <td>235270344752</td>\n",
       "    </tr>\n",
       "    <tr>\n",
       "      <th>2000-01-10</th>\n",
       "      <td>69.649033</td>\n",
       "      <td>70.431351</td>\n",
       "      <td>68.475182</td>\n",
       "      <td>70.040192</td>\n",
       "      <td>34.696152</td>\n",
       "      <td>276171685539</td>\n",
       "    </tr>\n",
       "  </tbody>\n",
       "</table>\n",
       "</div>"
      ],
      "text/plain": [
       "                 Open       High        Low      Close  Adj Close  \\\n",
       "Date                                                                \n",
       "2000-01-04  69.649033  69.649033  68.475182  69.649033  34.502377   \n",
       "2000-01-05  69.649033  71.214043  68.866341  71.214043  35.277649   \n",
       "2000-01-06  70.822884  71.214043  69.649033  69.649033  34.502377   \n",
       "2000-01-07  67.301331  68.475182  66.518639  67.692490  33.533165   \n",
       "2000-01-10  69.649033  70.431351  68.475182  70.040192  34.696152   \n",
       "\n",
       "                  Volume  \n",
       "Date                      \n",
       "2000-01-04  200662336736  \n",
       "2000-01-05  402466805912  \n",
       "2000-01-06  197545715802  \n",
       "2000-01-07  235270344752  \n",
       "2000-01-10  276171685539  "
      ]
     },
     "execution_count": 3,
     "metadata": {},
     "output_type": "execute_result"
    }
   ],
   "source": [
    "# 商品名稱\n",
    "prod = \"2330.TW\"\n",
    "# 取得全部資料\n",
    "data = yf.download(prod, period=\"max\")\n",
    "# 擷取資料開頭\n",
    "data.head()"
   ]
  }
 ],
 "metadata": {
  "kernelspec": {
   "display_name": ".venv",
   "language": "python",
   "name": "python3"
  },
  "language_info": {
   "codemirror_mode": {
    "name": "ipython",
    "version": 3
   },
   "file_extension": ".py",
   "mimetype": "text/x-python",
   "name": "python",
   "nbconvert_exporter": "python",
   "pygments_lexer": "ipython3",
   "version": "3.10.4"
  }
 },
 "nbformat": 4,
 "nbformat_minor": 2
}
